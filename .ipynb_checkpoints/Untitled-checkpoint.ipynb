{
 "cells": [
  {
   "cell_type": "code",
   "execution_count": 23,
   "metadata": {
    "collapsed": false,
    "deletable": true,
    "editable": true
   },
   "outputs": [
    {
     "name": "stdout",
     "output_type": "stream",
     "text": [
      "Notebook initialized with x3d backend.\n"
     ]
    }
   ],
   "source": [
    "from pylab import *\n",
    "%matplotlib inline\n",
    "plt.style.use('dark_background')\n",
    "from mayavi import mlab\n",
    "#%qtconsole --style monokai"
   ]
  },
  {
   "cell_type": "markdown",
   "metadata": {},
   "source": [
    "# 1. Load Data"
   ]
  },
  {
   "cell_type": "code",
   "execution_count": 2,
   "metadata": {
    "collapsed": true,
    "deletable": true,
    "editable": true
   },
   "outputs": [],
   "source": [
    "temp = np.genfromtxt(\"rho_x_y_z.dat\")[1:,:]\n",
    "data_points = temp[:,0:3]\n",
    "data_weights = temp[:,3]"
   ]
  },
  {
   "cell_type": "code",
   "execution_count": 3,
   "metadata": {
    "collapsed": false,
    "deletable": true,
    "editable": true
   },
   "outputs": [],
   "source": [
    "mybins = np.arange(-8.05,8,0.1)\n",
    "sums, edges = np.histogramdd(data_points,(mybins,mybins,mybins), weights=data_weights)\n",
    "count, edges = np.histogramdd(data_points,(mybins,mybins,mybins))\n",
    "H = np.nan_to_num(sums/(count+1e-8))\n",
    "H.astype(int16).tofile(\"H.dat\")"
   ]
  },
  {
   "cell_type": "markdown",
   "metadata": {},
   "source": [
    "# 2. Plot Density"
   ]
  },
  {
   "cell_type": "code",
   "execution_count": 5,
   "metadata": {
    "collapsed": false,
    "deletable": true,
    "editable": true
   },
   "outputs": [
    {
     "data": {
      "image/png": "[encoded data removed]",
      "text/plain": [
       "<matplotlib.figure.Figure at 0x12539d510>"
      ]
     },
     "metadata": {},
     "output_type": "display_data"
    }
   ],
   "source": [
    "image = np.exp(100*H)\n",
    "plt.imshow(image[:,80,:].T,cmap=\"hot\",origin=\"lower\",vmin=1,vmax=1500,extent=(-8,8,-8,8))\n",
    "plt.grid(True,linestyle=\"--\",alpha=0.5)\n",
    "plt.colorbar()\n",
    "plt.xlabel(\"z\")\n",
    "plt.ylabel(\"x\")\n",
    "plt.savefig(\"for_sxx.png\",dpi=300)"
   ]
  },
  {
   "cell_type": "markdown",
   "metadata": {},
   "source": [
    "# 3. Maya Render Contour3D"
   ]
  },
  {
   "cell_type": "code",
   "execution_count": null,
   "metadata": {
    "collapsed": true
   },
   "outputs": [],
   "source": [
    "mlab.clf()\n",
    "mlab.contour3d(image, \n",
    "               contours=[1200], transparent=True, opacity=1,\n",
    "               colormap=\"jet\",vmin=1,vmax=1500)\n",
    "mlab.contour3d(image, \n",
    "               contours=[700], transparent=True, opacity=0.3,\n",
    "               colormap=\"jet\",vmin=1,vmax=1500)\n",
    "mlab.show()"
   ]
  },
  {
   "cell_type": "markdown",
   "metadata": {},
   "source": [
    "# Maya Render ScalarField"
   ]
  },
  {
   "cell_type": "code",
   "execution_count": 8,
   "metadata": {
    "collapsed": false,
    "deletable": true,
    "editable": true
   },
   "outputs": [],
   "source": [
    "source = mlab.pipeline.scalar_field(H,cmap=\"hot\")\n",
    "a = H.min()\n",
    "b = H.max()\n",
    "mlab.clf()\n",
    "vol = mlab.pipeline.volume(source, vmin=a + 0.65 * (b - a),vmax=a + 0.9 * (b - a))\n",
    "mlab.show()"
   ]
  },
  {
   "cell_type": "code",
   "execution_count": 19,
   "metadata": {
    "collapsed": false,
    "deletable": true,
    "editable": true
   },
   "outputs": [],
   "source": []
  },
  {
   "cell_type": "code",
   "execution_count": null,
   "metadata": {
    "collapsed": true,
    "deletable": true,
    "editable": true
   },
   "outputs": [],
   "source": []
  }
 ],
 "metadata": {
  "kernelspec": {
   "display_name": "Python 2",
   "language": "python",
   "name": "python2"
  },
  "language_info": {
   "codemirror_mode": {
    "name": "ipython",
    "version": 2
   },
   "file_extension": ".py",
   "mimetype": "text/x-python",
   "name": "python",
   "nbconvert_exporter": "python",
   "pygments_lexer": "ipython2",
   "version": "2.7.13"
  }
 },
 "nbformat": 4,
 "nbformat_minor": 2
}
