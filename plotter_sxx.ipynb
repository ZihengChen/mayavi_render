{
 "cells": [
  {
   "cell_type": "code",
   "execution_count": 1,
   "metadata": {
    "collapsed": false,
    "deletable": true,
    "editable": true
   },
   "outputs": [],
   "source": [
    "from pylab import *\n",
    "%matplotlib inline\n",
    "plt.style.use('dark_background')\n",
    "from mayavi import mlab\n",
    "#%qtconsole --style monokai\n",
    "#mlab.init_notebook()"
   ]
  },
  {
   "cell_type": "markdown",
   "metadata": {
    "deletable": true,
    "editable": true
   },
   "source": [
    "# 1. Load Data"
   ]
  },
  {
   "cell_type": "code",
   "execution_count": 2,
   "metadata": {
    "collapsed": false,
    "deletable": true,
    "editable": true
   },
   "outputs": [],
   "source": [
    "temp = np.genfromtxt(\"data/input.txt\")[1:,:]\n",
    "data_points = temp[:,0:3]\n",
    "data_weights = temp[:,3]"
   ]
  },
  {
   "cell_type": "code",
   "execution_count": 3,
   "metadata": {
    "collapsed": false,
    "deletable": true,
    "editable": true
   },
   "outputs": [],
   "source": [
    "mybins = np.arange(-8.1,8,0.2)\n",
    "sums, edges = np.histogramdd(data_points,(mybins,mybins,mybins), weights=data_weights)\n",
    "count, edges = np.histogramdd(data_points,(mybins,mybins,mybins))\n",
    "\n",
    "H = np.nan_to_num(sums/(count+1e-8))\n",
    "image = np.exp(100*H)\n",
    "H.astype(int16).tofile(\"data/output_hist.dat\")\n",
    "image.astype(int16).tofile(\"data/output_img.dat\")"
   ]
  },
  {
   "cell_type": "markdown",
   "metadata": {
    "deletable": true,
    "editable": true
   },
   "source": [
    "# 2. Plot Density"
   ]
  },
  {
   "cell_type": "code",
   "execution_count": 4,
   "metadata": {
    "collapsed": false,
    "deletable": true,
    "editable": true
   },
   "outputs": [
    {
     "data": {
      "image/png": "[encoded data removed]",
      "text/plain": [
       "<matplotlib.figure.Figure at 0x1284403d0>"
      ]
     },
     "metadata": {},
     "output_type": "display_data"
    }
   ],
   "source": [
    "plt.imshow(image[:,40,:].T,cmap=\"hot\",origin=\"lower\",vmin=1,vmax=1500,extent=(-8,8,-8,8))\n",
    "plt.grid(True,linestyle=\"--\",alpha=0.5)\n",
    "plt.colorbar()\n",
    "plt.xlabel(\"z\")\n",
    "plt.ylabel(\"x\")\n",
    "plt.savefig(\"for_sxx.png\",dpi=300)"
   ]
  },
  {
   "cell_type": "markdown",
   "metadata": {
    "deletable": true,
    "editable": true
   },
   "source": [
    "# 3. Maya Render Contour3D"
   ]
  },
  {
   "cell_type": "code",
   "execution_count": null,
   "metadata": {
    "collapsed": false,
    "deletable": true,
    "editable": true
   },
   "outputs": [],
   "source": [
    "mlab.clf()\n",
    "\n",
    "src = mlab.pipeline.scalar_field(image)\n",
    "mlab.pipeline.iso_surface(src,contours=[1200], transparent=False, opacity=1,\n",
    "                          colormap=\"viridis\",vmin=1,vmax=1200)\n",
    "mlab.pipeline.iso_surface(src,contours=[700], transparent=True, opacity=0.4,\n",
    "                          colormap=\"viridis\",vmin=1,vmax=1200)\n",
    "mlab.pipeline.iso_surface(src,contours=[500,300], transparent=True, opacity=0.1,\n",
    "                          colormap=\"viridis\",vmin=1,vmax=1200)\n",
    "\n",
    "mlab.pipeline.image_plane_widget(src,plane_orientation='y_axes',slice_index=10, opacity=0.1,\n",
    "                                 colormap=\"hot\",vmin=1,vmax=1500)\n",
    "mlab.show()"
   ]
  },
  {
   "cell_type": "markdown",
   "metadata": {
    "deletable": true,
    "editable": true
   },
   "source": [
    "# Maya Render ScalarField"
   ]
  },
  {
   "cell_type": "code",
   "execution_count": 7,
   "metadata": {
    "collapsed": false,
    "deletable": true,
    "editable": true
   },
   "outputs": [],
   "source": [
    "source = mlab.pipeline.scalar_field(H,cmap=\"hot\")\n",
    "a = H.min()\n",
    "b = H.max()\n",
    "mlab.clf()\n",
    "vol = mlab.pipeline.volume(source, vmin=a + 0.65 * (b - a),vmax=a + 0.9 * (b - a))\n",
    "mlab.show()"
   ]
  },
  {
   "cell_type": "code",
   "execution_count": 19,
   "metadata": {
    "collapsed": false,
    "deletable": true,
    "editable": true
   },
   "outputs": [],
   "source": []
  },
  {
   "cell_type": "code",
   "execution_count": null,
   "metadata": {
    "collapsed": true,
    "deletable": true,
    "editable": true
   },
   "outputs": [],
   "source": []
  }
 ],
 "metadata": {
  "kernelspec": {
   "display_name": "Python 2",
   "language": "python",
   "name": "python2"
  },
  "language_info": {
   "codemirror_mode": {
    "name": "ipython",
    "version": 2
   },
   "file_extension": ".py",
   "mimetype": "text/x-python",
   "name": "python",
   "nbconvert_exporter": "python",
   "pygments_lexer": "ipython2",
   "version": "2.7.13"
  }
 },
 "nbformat": 4,
 "nbformat_minor": 2
}
